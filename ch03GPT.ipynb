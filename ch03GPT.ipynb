{
 "cells": [
  {
   "cell_type": "markdown",
   "id": "653089c9",
   "metadata": {},
   "source": [
    "# Chapter 3: A Generative Pre-Trained Transformer (GPT) for Sequence Generation\n",
    "\n",
    "\n",
    "This chapter covers\n",
    "\n",
    "* A generative pre-trained Transformer (GPT) from scratch for sequence generation\n",
    "* Using causal self-attention to effectively predict the next element in a sequence\n",
    "* Extracting weights from a pre-trained model\n",
    "* Generating coherent text with the pre-trained GPT2-XL\n",
    "* Using temperature and top-K sampling to control the fidelity and creativity of text\n",
    "\n",
    "Generative Pre-trained Transformer (GPT)-2 marks a significant milestone in the field of natural language processing (NLP) and has paved the way for the development of even more sophisticated models, including its successors, ChatGPT and GPT-4.\n",
    "\n",
    "GPT-1 was designed to generate coherent and contextually relevant text based on a given prompt. In November 2019, OpenAI released GPT-2, along with several datasets and a tool to detect model-generated text, contributing to discussions on responsible AI usage. Because of this release, you’ll learn to extract the pre-trained weights from GPT-2 and load them to the GPT-2 model that you create.\n",
    "GPT-2 is based on the Transformer architecture proposed in the 2017 paper Attention Is All You Need. However, unlike the German-to-English translator you built in the previous chapter, GPT-2 is a decoder-only Transformer, meaning there is no encoder stack in the model. When translating German phrases to English, the encoder captures the meaning of the German phrase and passes it to the decoder to generate the translation. However, in text generation tasks, the model does not need an encoder to understand a different language. Instead, it generates text based on the previous tokens in the sentence, using a decoder-only architecture. Like other Transformer models, GPT-2 uses self-attention mechanisms to process input data in parallel, significantly improving the efficiency and effectiveness of training large language models.\n",
    "\n",
    "Our goal in this chapter is not necessarily to generate the most coherent text. Instead, you'll learn how GPT-2 works, and in later chapters, you'll use it to generate images, one patch at a time. As we mentioned in Chapter 1, one of the two ways of text-to-image generation is Transformer models. We'll use a GPT that's similar in structure to the one you create here in this chapter for text-to-image generation. The only difference is that instead of predicting the next text token in a sentence, you'll use the GPT to predict the next image token in a sequence of image patches.\n",
    "Additionally, you'll learn a unique feature of text generation with Transformers: controlling the fidelity and creativity of the generated text. You'll achieve this by using temperature and top-K sampling. Temperature controls the randomness of the predictions of the trained model. A high temperature makes the generated text more creative while a low temperature makes the text more confident and predictable. Top-K sampling is a method where you select the next token from the top K most probable tokens, rather than selecting from the entire vocabulary. A small value of K leads to the selection of highly likely tokens in each step and this, in turn, makes the generated text less creative and more coherent.\n",
    "\n",
    "In later chapters, you'll apply this unique feature to text-to-image generation with Transformers. By setting the appropriate temperature and top-K values, you can control the fidelity and creativity of the generated image. In contrast, the second method of text-to-image generation, namely diffusion models, lacks a way to control the fidelity and creativity of the generated image."
   ]
  },
  {
   "cell_type": "markdown",
   "id": "c268aecc",
   "metadata": {},
   "source": [
    "# 1. Word Tokenization and the Attention Mechanism\n",
    "Before we create the model, let's first discuss how we tokenize words in GPT2 and the idea behind the self attention mechanism.\n",
    "\n",
    "## 1.1. The Byte Pair Encoder\n",
    "In Chapter 2, we tokenized text from scratch. Basically we converted all the words in the text into integers and feed the integers to the models to train them. \n",
    "\n",
    "OpenAI uses a more efficient way of tokenizing words: Byte Pair Encoder. Download the file *bpe.py* from Andrej Karpathy's GitHub minGPT repository https://github.com/karpathy/minGPT/blob/master/mingpt/bpe.py and place the file in the folder /utils/ on your computer. Alternatively, download the file from the book's GitHub repository https://github.com/markhliu/txt2img. The Python code in this chapter is adapted from Andrej Karpathy's GitHub minGPT repository https://github.com/karpathy/minGPT, which in turn is a PyTorch re-implementation of OpenAI's GPT2 model https://github.com/openai/gpt-2. \n",
    "\n",
    "Take a look at the file *bpe.py*. If it looks too complicated, you don't need to spend too much time on it. All you need to know is that it converts a string of text into a sequence of integers. \n",
    "\n",
    "First, let's install the transformers Python library as follows:"
   ]
  },
  {
   "cell_type": "code",
   "execution_count": 1,
   "id": "ca6a190d-ca3a-4b79-95e7-350079ea9497",
   "metadata": {},
   "outputs": [
    {
     "name": "stdout",
     "output_type": "stream",
     "text": [
      "Requirement already satisfied: transformers in c:\\users\\hlliu2\\anaconda3\\envs\\nlp\\lib\\site-packages (4.42.4)\n",
      "Requirement already satisfied: filelock in c:\\users\\hlliu2\\anaconda3\\envs\\nlp\\lib\\site-packages (from transformers) (3.13.1)\n",
      "Requirement already satisfied: huggingface-hub<1.0,>=0.23.2 in c:\\users\\hlliu2\\anaconda3\\envs\\nlp\\lib\\site-packages (from transformers) (0.23.4)\n",
      "Requirement already satisfied: numpy<2.0,>=1.17 in c:\\users\\hlliu2\\anaconda3\\envs\\nlp\\lib\\site-packages (from transformers) (1.26.4)\n",
      "Requirement already satisfied: packaging>=20.0 in c:\\users\\hlliu2\\anaconda3\\envs\\nlp\\lib\\site-packages (from transformers) (24.1)\n",
      "Requirement already satisfied: pyyaml>=5.1 in c:\\users\\hlliu2\\anaconda3\\envs\\nlp\\lib\\site-packages (from transformers) (6.0.1)\n",
      "Requirement already satisfied: regex!=2019.12.17 in c:\\users\\hlliu2\\anaconda3\\envs\\nlp\\lib\\site-packages (from transformers) (2024.5.15)\n",
      "Requirement already satisfied: requests in c:\\users\\hlliu2\\anaconda3\\envs\\nlp\\lib\\site-packages (from transformers) (2.32.2)\n",
      "Requirement already satisfied: safetensors>=0.4.1 in c:\\users\\hlliu2\\anaconda3\\envs\\nlp\\lib\\site-packages (from transformers) (0.4.3)\n",
      "Requirement already satisfied: tokenizers<0.20,>=0.19 in c:\\users\\hlliu2\\anaconda3\\envs\\nlp\\lib\\site-packages (from transformers) (0.19.1)\n",
      "Requirement already satisfied: tqdm>=4.27 in c:\\users\\hlliu2\\anaconda3\\envs\\nlp\\lib\\site-packages (from transformers) (4.66.4)\n",
      "Requirement already satisfied: fsspec>=2023.5.0 in c:\\users\\hlliu2\\anaconda3\\envs\\nlp\\lib\\site-packages (from huggingface-hub<1.0,>=0.23.2->transformers) (2024.5.0)\n",
      "Requirement already satisfied: typing-extensions>=3.7.4.3 in c:\\users\\hlliu2\\anaconda3\\envs\\nlp\\lib\\site-packages (from huggingface-hub<1.0,>=0.23.2->transformers) (4.11.0)\n",
      "Requirement already satisfied: colorama in c:\\users\\hlliu2\\anaconda3\\envs\\nlp\\lib\\site-packages (from tqdm>=4.27->transformers) (0.4.6)\n",
      "Requirement already satisfied: charset-normalizer<4,>=2 in c:\\users\\hlliu2\\anaconda3\\envs\\nlp\\lib\\site-packages (from requests->transformers) (2.0.4)\n",
      "Requirement already satisfied: idna<4,>=2.5 in c:\\users\\hlliu2\\anaconda3\\envs\\nlp\\lib\\site-packages (from requests->transformers) (3.7)\n",
      "Requirement already satisfied: urllib3<3,>=1.21.1 in c:\\users\\hlliu2\\anaconda3\\envs\\nlp\\lib\\site-packages (from requests->transformers) (2.2.2)\n",
      "Requirement already satisfied: certifi>=2017.4.17 in c:\\users\\hlliu2\\anaconda3\\envs\\nlp\\lib\\site-packages (from requests->transformers) (2024.7.4)\n"
     ]
    }
   ],
   "source": [
    "!pip install transformers"
   ]
  },
  {
   "cell_type": "markdown",
   "id": "ed84eadd",
   "metadata": {},
   "source": [
    "To see how the module *bpe.py* converts text into integers, let's try an example:"
   ]
  },
  {
   "cell_type": "code",
   "execution_count": 2,
   "id": "fbfb8bd9",
   "metadata": {},
   "outputs": [
    {
     "name": "stdout",
     "output_type": "stream",
     "text": [
      "{'bpe_idx': [1212, 318, 262, 2656, 2420, 326, 356, 765, 284, 10385, 340, 284, 37014, 13], 'tokens': ['This', ' is', ' the', ' original', ' text', ' that', ' we', ' want', ' to', ' convert', ' it', ' to', ' integers', '.'], 'parts': [{'token': 'This', 'token_bytes': b'This', 'token_translated': 'This', 'token_merged': ['This'], 'token_ix': [1212]}, {'token': ' is', 'token_bytes': b' is', 'token_translated': 'Ġis', 'token_merged': ['Ġis'], 'token_ix': [318]}, {'token': ' the', 'token_bytes': b' the', 'token_translated': 'Ġthe', 'token_merged': ['Ġthe'], 'token_ix': [262]}, {'token': ' original', 'token_bytes': b' original', 'token_translated': 'Ġoriginal', 'token_merged': ['Ġoriginal'], 'token_ix': [2656]}, {'token': ' text', 'token_bytes': b' text', 'token_translated': 'Ġtext', 'token_merged': ['Ġtext'], 'token_ix': [2420]}, {'token': ' that', 'token_bytes': b' that', 'token_translated': 'Ġthat', 'token_merged': ['Ġthat'], 'token_ix': [326]}, {'token': ' we', 'token_bytes': b' we', 'token_translated': 'Ġwe', 'token_merged': ['Ġwe'], 'token_ix': [356]}, {'token': ' want', 'token_bytes': b' want', 'token_translated': 'Ġwant', 'token_merged': ['Ġwant'], 'token_ix': [765]}, {'token': ' to', 'token_bytes': b' to', 'token_translated': 'Ġto', 'token_merged': ['Ġto'], 'token_ix': [284]}, {'token': ' convert', 'token_bytes': b' convert', 'token_translated': 'Ġconvert', 'token_merged': ['Ġconvert'], 'token_ix': [10385]}, {'token': ' it', 'token_bytes': b' it', 'token_translated': 'Ġit', 'token_merged': ['Ġit'], 'token_ix': [340]}, {'token': ' to', 'token_bytes': b' to', 'token_translated': 'Ġto', 'token_merged': ['Ġto'], 'token_ix': [284]}, {'token': ' integers', 'token_bytes': b' integers', 'token_translated': 'Ġintegers', 'token_merged': ['Ġintegers'], 'token_ix': [37014]}, {'token': '.', 'token_bytes': b'.', 'token_translated': '.', 'token_merged': ['.'], 'token_ix': [13]}]}\n"
     ]
    }
   ],
   "source": [
    "from utils.bpe import get_encoder\n",
    "\n",
    "example=\"This is the original text that we want to convert to integers.\"\n",
    "bpe_encoder=get_encoder()\n",
    "response=bpe_encoder.encode_and_show_work(example)\n",
    "print(response)"
   ]
  },
  {
   "cell_type": "markdown",
   "id": "26d073ca",
   "metadata": {},
   "source": [
    "In particular, the example text has 13 words and a punctuation (.) in it. That's a total of 14 items. The encoder converts them into 14 integers, as follows:"
   ]
  },
  {
   "cell_type": "code",
   "execution_count": 3,
   "id": "c57af8c2",
   "metadata": {},
   "outputs": [
    {
     "name": "stdout",
     "output_type": "stream",
     "text": [
      "[1212, 318, 262, 2656, 2420, 326, 356, 765, 284, 10385, 340, 284, 37014, 13]\n"
     ]
    }
   ],
   "source": [
    "print(response['bpe_idx'])"
   ]
  },
  {
   "cell_type": "markdown",
   "id": "ae7f5710",
   "metadata": {},
   "source": [
    "Therefore, we'll use the BPE encoder as our tokenizer. "
   ]
  },
  {
   "cell_type": "markdown",
   "id": "d8e0b2e3",
   "metadata": {},
   "source": [
    "## 1.2. The Self Attention Mechanism\n",
    "To understand the attention mechanism, we need to go back to the old methods of sequence prediction models, namely, recurrent neural networks (RNNs). RNNs such as LSTMs need to keep track of the hidden state to account for information in previous time steps. For small datasets and short-term memory, RNNs work well. However, for large language models, the number of hidden states the model needs to track is large. This leads to both poor performance and long training time. Researchers add in the attention mechanism to let the model know which states to pay more attention to. The attention mechanism leads to better RNN models. However, since in recurrent models the learning is sequential, paralleled computing is not feasible. \n",
    "\n",
    "A paper in 2017 by Google researchers proposes a solution: abandon the RNN model and keep only the attention mechanism, and use multi-headed attention mechanisms for parallel computing. The model architecture they proposed is dubbed transformers. "
   ]
  },
  {
   "cell_type": "markdown",
   "id": "c7edc2f0",
   "metadata": {},
   "source": [
    "Now let's discuss how the attention mechanism is implemented. Attention is a mechanism that allows the model to assign different amounts of weights to elements in a sequence. These weights are learned from large amounts of data during the training stage. Specifically, the weights are calculated from queries Q, keys K, and values V, with the following formula:\n",
    "$$Attention(Q,K,V)=softmax(\\frac{Q\\times K_{transpose}}{\\sqrt{d_k}})\\times V$$\n",
    "\n",
    "This is the attention mechanism you have seen in Chapter 2 when translating German to English. "
   ]
  },
  {
   "cell_type": "markdown",
   "id": "e5ff734b",
   "metadata": {},
   "source": [
    "# 2. The GPT2 Model\n",
    "In this section, we'll create the GPT2 model from scratch. Along the way, you'll learn how the attention mechanism works and the architecture of the GPT2.  \n",
    "\n",
    "Download the file *gpt2_util.py* from the book's GitHub repository and place it in the folder /utils/ on your computer. In it, we have defined a few helper functions and the transformer model. "
   ]
  },
  {
   "cell_type": "markdown",
   "id": "b1ed4dd9",
   "metadata": {},
   "source": [
    "## 2.1. The GELU Activation Function\n",
    "Instead of using the ReLU activation function, we'll use the GELU activation function. The function is defined as follows."
   ]
  },
  {
   "cell_type": "code",
   "execution_count": 4,
   "id": "18013620",
   "metadata": {},
   "outputs": [],
   "source": [
    "from torch import nn\n",
    "\n",
    "class NewGELU(nn.Module):\n",
    "    def forward(self, x):\n",
    "        return 0.5*x*(1.0+torch.tanh(math.sqrt(2.0/math.pi)*\\\n",
    "                       (x + 0.044715 * torch.pow(x, 3.0))))"
   ]
  },
  {
   "cell_type": "markdown",
   "id": "e0c79e71",
   "metadata": {},
   "source": [
    "The ReLU function is not differentiable since it has a kink in it. The GELU activation function, in contrast, is differentiable everywhere and provides better learning process. Below, we draw a picture of the GELU function and compares it to the ReLU function:"
   ]
  },
  {
   "cell_type": "code",
   "execution_count": 5,
   "id": "36f17e3d",
   "metadata": {},
   "outputs": [
    {
     "data": {
      "image/png": "[encoded data removed]",
      "text/plain": [
       "<Figure size 600x400 with 1 Axes>"
      ]
     },
     "metadata": {},
     "output_type": "display_data"
    }
   ],
   "source": [
    "import math\n",
    "import torch\n",
    "import torch.nn as nn\n",
    "from torch.nn import functional as F\n",
    "import matplotlib.pyplot as plt\n",
    "import numpy as np\n",
    "\n",
    "GELU=NewGELU()\n",
    "         \n",
    "# Define GELU and ReLU\n",
    "def relu(x):\n",
    "    y=torch.zeros(len(x))\n",
    "    for i in range(len(x)):\n",
    "        if x[i]>0:\n",
    "            y[i]=x[i]\n",
    "    return y  \n",
    "def gelu(x):\n",
    "    y=torch.zeros(len(x))\n",
    "    for i in range(len(x)):\n",
    "        y[i]=NewGELU(x[i])\n",
    "    return y                 \n",
    "# Generate x values\n",
    "xs = torch.linspace(-6,6,31)\n",
    "ys=relu(xs)\n",
    "#gs=gelu(xs)\n",
    "gs=GELU(xs)\n",
    "\n",
    "# Plot the ReLU function\n",
    "fig, ax = plt.subplots(figsize=(6,4),dpi=100)\n",
    "plt.xlim(-3,3)\n",
    "plt.ylim(-0.5,3.5)\n",
    "#plt.grid()\n",
    "\n",
    "plt.plot(xs, ys, color = 'blue', label=\"ReLU\")\n",
    "plt.plot(xs, gs, color = 'red', label=\"GELU\")\n",
    "plt.legend(fontsize=15)\n",
    "plt.xlabel(\"values of x\")\n",
    "plt.ylabel(\"values of $ReLU(x)$ and $GELU(x)$\")\n",
    "plt.title(\"The ReLU and GELU Activation Functions\")\n",
    "plt.show()"
   ]
  },
  {
   "cell_type": "markdown",
   "id": "00aa0c12",
   "metadata": {},
   "source": [
    "The above graph shows that GELU is a smooth function hence differentiable everywhere. "
   ]
  },
  {
   "cell_type": "markdown",
   "id": "6a73649b",
   "metadata": {},
   "source": [
    "## 2.2 Create A Transformer\n",
    "We first define some hyperparameters, which are based on the XL version of the GPT2 model. The easiest way to accomplish this is to define a Config() class with default values:"
   ]
  },
  {
   "cell_type": "code",
   "execution_count": 6,
   "id": "42cda9e4",
   "metadata": {},
   "outputs": [],
   "source": [
    "# define hyperparameters\n",
    "class Config:\n",
    "    n_layer = 48\n",
    "    n_head = 25 \n",
    "    n_embd = 1600\n",
    "    vocab_size = 50257\n",
    "    block_size = 1024\n",
    "    embd_pdrop = 0.1\n",
    "    resid_pdrop = 0.1\n",
    "    attn_pdrop = 0.1\n",
    "        \n",
    "# instantiate a Config() class\n",
    "config=Config()"
   ]
  },
  {
   "cell_type": "markdown",
   "id": "3e195a94",
   "metadata": {},
   "source": [
    "In particular, the GPT2 XL model uses 48 layers of attention blocks, each with 25 parallel attention heads. \n",
    "\n",
    "The attention mechanism is modeled in the *CausalSelfAttention()* class, which is defined as follows in the file *gpt2_util.py*. "
   ]
  },
  {
   "cell_type": "code",
   "execution_count": 7,
   "id": "3655fc42",
   "metadata": {},
   "outputs": [],
   "source": [
    "# see ExplainSelfAttention.py for how it works\n",
    "class CausalSelfAttention(nn.Module):\n",
    "    def __init__(self, config):\n",
    "        super().__init__()\n",
    "        self.c_attn = nn.Linear(config.n_embd, 3 * config.n_embd)\n",
    "        self.c_proj = nn.Linear(config.n_embd, config.n_embd)\n",
    "        self.attn_dropout = nn.Dropout(config.attn_pdrop)\n",
    "        self.resid_dropout = nn.Dropout(config.resid_pdrop)\n",
    "        self.register_buffer(\"bias\", torch.tril(torch.ones(\\\n",
    "                   config.block_size, config.block_size))\n",
    "             .view(1, 1, config.block_size, config.block_size))\n",
    "        self.n_head = config.n_head\n",
    "        self.n_embd = config.n_embd\n",
    "\n",
    "    def forward(self, x):\n",
    "        B, T, C = x.size() \n",
    "        q, k ,v  = self.c_attn(x).split(self.n_embd, dim=2)\n",
    "        hs = C // self.n_head\n",
    "        k = k.view(B, T, self.n_head, hs).transpose(1, 2) \n",
    "        q = q.view(B, T, self.n_head, hs).transpose(1, 2) \n",
    "        v = v.view(B, T, self.n_head, hs).transpose(1, 2) \n",
    "\n",
    "        att = (q @ k.transpose(-2, -1)) *\\\n",
    "            (1.0 / math.sqrt(k.size(-1)))\n",
    "        att = att.masked_fill(self.bias[:,:,:T,:T] == 0, \\\n",
    "                              float('-inf'))\n",
    "        att = F.softmax(att, dim=-1)\n",
    "        att = self.attn_dropout(att)\n",
    "        y = att @ v \n",
    "        y = y.transpose(1, 2).contiguous().view(B, T, C)\n",
    "        y = self.resid_dropout(self.c_proj(y))\n",
    "        return y"
   ]
  },
  {
   "cell_type": "markdown",
   "id": "fa3f6c69",
   "metadata": {},
   "source": [
    "Note that the attention weights are calculated from the three vectors, q, k, and v. The weights in these three vectors are learned from the data during training. \n",
    "\n",
    "GPT2 belongs to the decoder family and the XL version consists of 48 attention blocks. Each attention block is defined as follows: "
   ]
  },
  {
   "cell_type": "code",
   "execution_count": 8,
   "id": "64b84f7b",
   "metadata": {},
   "outputs": [],
   "source": [
    "class Block(nn.Module):\n",
    "    def __init__(self, config):\n",
    "        super().__init__()\n",
    "        self.ln_1 = nn.LayerNorm(config.n_embd)\n",
    "        self.attn = CausalSelfAttention(config)\n",
    "        self.ln_2 = nn.LayerNorm(config.n_embd)\n",
    "        self.mlp = nn.ModuleDict(dict(\n",
    "            c_fc   = nn.Linear(config.n_embd, 4 * config.n_embd),\n",
    "            c_proj = nn.Linear(4 * config.n_embd, config.n_embd),\n",
    "            act    = NewGELU(),\n",
    "            dropout = nn.Dropout(config.resid_pdrop),\n",
    "        ))\n",
    "        m = self.mlp\n",
    "        self.mlpf=lambda x:m.dropout(m.c_proj(m.act(m.c_fc(x)))) \n",
    "\n",
    "    def forward(self, x):\n",
    "        x = x + self.attn(self.ln_1(x))\n",
    "        x = x + self.mlpf(self.ln_2(x))\n",
    "        return x"
   ]
  },
  {
   "cell_type": "markdown",
   "id": "6335f055",
   "metadata": {},
   "source": [
    "The main component in the attention block is the *CausalSelfAttention()* class we defined above. However, the inputs are first normalized and the residual then added to the inputs. After that, the inputs go through the *CausalSelfAttention()* class and the output is normalized again. The outputs then go through a feed-forward sublayer, which consists of two fully connected dense layers. "
   ]
  },
  {
   "cell_type": "markdown",
   "id": "084bcabd",
   "metadata": {},
   "source": [
    "The GPT2 model is defined as follows:"
   ]
  },
  {
   "cell_type": "code",
   "execution_count": 9,
   "id": "3ccdd1ae",
   "metadata": {},
   "outputs": [],
   "source": [
    "class GPT(nn.Module):\n",
    "    def __init__(self, config):\n",
    "        super().__init__()\n",
    "        self.block_size = config.block_size\n",
    "        self.transformer = nn.ModuleDict(dict(\n",
    "            wte = nn.Embedding(config.vocab_size, config.n_embd),\n",
    "            wpe = nn.Embedding(config.block_size, config.n_embd),\n",
    "            drop = nn.Dropout(config.embd_pdrop),\n",
    "            h = nn.ModuleList([Block(config) \n",
    "                               for _ in range(config.n_layer)]),\n",
    "            ln_f = nn.LayerNorm(config.n_embd),\n",
    "        ))\n",
    "        self.lm_head = nn.Linear(config.n_embd,\n",
    "                                 config.vocab_size, bias=False)\n",
    "        for pn, p in self.named_parameters():\n",
    "            if pn.endswith('c_proj.weight'):\n",
    "                torch.nn.init.normal_(p, mean=0.0, \n",
    "                  std=0.02/math.sqrt(2 * config.n_layer))\n",
    "        num=sum(p.numel() for p in self.transformer.parameters())\n",
    "        print(\"number of parameters: %.2fM\" % (num/1e6,))\n",
    "            \n",
    "    def forward(self, idx, targets=None):\n",
    "        b, t = idx.size()\n",
    "        pos = torch.arange(0,t,dtype=torch.long).unsqueeze(0)\n",
    "        tok_emb = self.transformer.wte(idx) \n",
    "        pos_emb = self.transformer.wpe(pos) \n",
    "        x = self.transformer.drop(tok_emb + pos_emb)\n",
    "        for block in self.transformer.h:\n",
    "            x = block(x)\n",
    "        x = self.transformer.ln_f(x)\n",
    "        logits = self.lm_head(x)\n",
    "        loss = None\n",
    "        if targets is not None:\n",
    "            loss=F.cross_entropy(logits.view(-1,logits.size(-1)),\n",
    "                           targets.view(-1), ignore_index=-1)\n",
    "        return logits, loss"
   ]
  },
  {
   "cell_type": "markdown",
   "id": "1bfb9c63",
   "metadata": {},
   "source": [
    "Finally, we instantiate a GPT2 model as follows:"
   ]
  },
  {
   "cell_type": "code",
   "execution_count": 10,
   "id": "e0b8ae7f",
   "metadata": {},
   "outputs": [
    {
     "name": "stdout",
     "output_type": "stream",
     "text": [
      "number of parameters: 1557.61M\n"
     ]
    }
   ],
   "source": [
    "model=GPT(config)"
   ]
  },
  {
   "cell_type": "markdown",
   "id": "899cb6f0",
   "metadata": {},
   "source": [
    "Just like that, you have created a GPT2 model from scratch. The model is, of course, not trained. So it cannot make any meaningful predictions or generate any legible text. \n",
    "\n",
    "As you can see, the model has more than 1.5 billion parameters and it's impossible to train the model without supercomputing facilities, let alone the amount of data needed to train the model. \n",
    "\n",
    "We, therefore, will load up the trained weights that are published by OpenAI. "
   ]
  },
  {
   "cell_type": "markdown",
   "id": "be6ee376",
   "metadata": {},
   "source": [
    "# 3. Load Up the Trained Weights"
   ]
  },
  {
   "cell_type": "markdown",
   "id": "5fafdc15",
   "metadata": {},
   "source": [
    "To load up the pretrained weights from GPT2, we can first import GPT2 from the *transformers* library and extract the model weights:"
   ]
  },
  {
   "cell_type": "code",
   "execution_count": 11,
   "id": "c4823d8c",
   "metadata": {},
   "outputs": [],
   "source": [
    "from transformers import GPT2LMHeadModel\n",
    "\n",
    "model_hf = GPT2LMHeadModel.from_pretrained('gpt2-xl')\n",
    "sd_hf = model_hf.state_dict()  "
   ]
  },
  {
   "cell_type": "markdown",
   "id": "84f1f903",
   "metadata": {},
   "source": [
    "We'll see how many keys are in the dictionary *sd_hf*:"
   ]
  },
  {
   "cell_type": "code",
   "execution_count": 12,
   "id": "08062972",
   "metadata": {},
   "outputs": [
    {
     "name": "stdout",
     "output_type": "stream",
     "text": [
      "629\n"
     ]
    }
   ],
   "source": [
    "keys = [k for k in sd_hf if not k.endswith('attn.masked_bias')] \n",
    "print(len(keys))"
   ]
  },
  {
   "cell_type": "markdown",
   "id": "aba706c3",
   "metadata": {},
   "source": [
    "We'll also extract the state dictionary for the GPT2 model we just created ourselves:"
   ]
  },
  {
   "cell_type": "code",
   "execution_count": 13,
   "id": "8a6a600a",
   "metadata": {},
   "outputs": [
    {
     "name": "stdout",
     "output_type": "stream",
     "text": [
      "629\n"
     ]
    }
   ],
   "source": [
    "sd=model.state_dict()\n",
    "print(len(sd))"
   ]
  },
  {
   "cell_type": "markdown",
   "id": "73036c27",
   "metadata": {},
   "source": [
    "Because OpenAI uses a \"Conv1D\" module while we use a vanilla nn.Linear, we need to transpose these weights when we import them to our model:"
   ]
  },
  {
   "cell_type": "code",
   "execution_count": 14,
   "id": "fc2f8827",
   "metadata": {},
   "outputs": [],
   "source": [
    "transposed = ['attn.c_attn.weight', 'attn.c_proj.weight',\n",
    "              'mlp.c_fc.weight', 'mlp.c_proj.weight']"
   ]
  },
  {
   "cell_type": "markdown",
   "id": "c2b56e69",
   "metadata": {},
   "source": [
    "We'll go ahead and load the trained weights from the trained model to our own model, layer by layer:"
   ]
  },
  {
   "cell_type": "code",
   "execution_count": 15,
   "id": "62249b0d",
   "metadata": {},
   "outputs": [],
   "source": [
    "for k in keys:\n",
    "    if any(k.endswith(w) for w in transposed):\n",
    "        # special treatment for Conv1D weights\n",
    "        with torch.no_grad():\n",
    "            sd[k].copy_(sd_hf[k].t())\n",
    "    else:\n",
    "        with torch.no_grad():\n",
    "            sd[k].copy_(sd_hf[k])"
   ]
  },
  {
   "cell_type": "markdown",
   "id": "5ba403f7",
   "metadata": {},
   "source": [
    "Now our model is equiped with trained weights from OpenAI. "
   ]
  },
  {
   "cell_type": "markdown",
   "id": "39e27a43",
   "metadata": {},
   "source": [
    "# 4. Text Generation with GPT2\n",
    "We'll use the GPT2 model to generate text. \n",
    "\n",
    "When generating text, we will feed a prompt to the model. The model predicts the next word and attaches the prediction to the end of the prompt to form a new prompt. It then uses the new prompt to make prediction again. It keep doing this until the desired text length is reached. \n",
    "\n",
    "First, we need to define a function to convert text to integers to feed to the model and after the prediction is finished, convert integers back to text. "
   ]
  },
  {
   "cell_type": "code",
   "execution_count": 16,
   "id": "e8487434",
   "metadata": {},
   "outputs": [],
   "source": [
    "def sample(idx, max_new_tokens, temperature=1.0,\n",
    "             do_sample=False, top_k=None):\n",
    "    for _ in range(max_new_tokens):\n",
    "        if idx.size(1) <= config.block_size:\n",
    "            idx_cond = idx  \n",
    "        else:\n",
    "            idx_cond = idx[:, -config.block_size:]\n",
    "        # predict the logits for the index in sequence\n",
    "        logits, _ = model(idx_cond)\n",
    "        # pluck the logits at the final step \n",
    "        logits = logits[:, -1, :] / temperature\n",
    "        # crop the logits to only the top k options\n",
    "        if top_k is not None:\n",
    "            v, _ = torch.topk(logits, top_k)\n",
    "            logits[logits < v[:, [-1]]] = -float('Inf')\n",
    "        # apply softmax to get probabilities\n",
    "        probs = F.softmax(logits, dim=-1)\n",
    "        if do_sample:\n",
    "            idx_next=torch.multinomial(probs,num_samples=1)\n",
    "        else:\n",
    "            _, idx_next = torch.topk(probs, k=1, dim=-1)\n",
    "        idx = torch.cat((idx, idx_next), dim=1)\n",
    "    return idx"
   ]
  },
  {
   "cell_type": "markdown",
   "id": "1fb3b029",
   "metadata": {},
   "source": [
    "We will provide a prompt and convert it to integers:"
   ]
  },
  {
   "cell_type": "code",
   "execution_count": 17,
   "id": "730313c8",
   "metadata": {},
   "outputs": [
    {
     "name": "stdout",
     "output_type": "stream",
     "text": [
      "tensor([[  464,  1748,   286, 39540,   287,   262,  1181,   286, 11867]])\n"
     ]
    }
   ],
   "source": [
    "from utils.bpe import BPETokenizer   \n",
    "\n",
    "tokenizer = BPETokenizer()\n",
    "prompt=\"The city of Lexington in the state of Kentucky\"\n",
    "\n",
    "x=tokenizer(prompt)\n",
    "print(x)  "
   ]
  },
  {
   "cell_type": "markdown",
   "id": "e56d0e1a",
   "metadata": {},
   "source": [
    "Here I use \"The Finance department at the University of Kentucky\" as the prompt. We convert the text to integers so we can feed to the GPT2 model:  "
   ]
  },
  {
   "cell_type": "code",
   "execution_count": 18,
   "id": "0d429629",
   "metadata": {},
   "outputs": [],
   "source": [
    "y = sample(x, max_new_tokens=200, do_sample=True, top_k=40)    "
   ]
  },
  {
   "cell_type": "markdown",
   "id": "fc02d1aa",
   "metadata": {},
   "source": [
    "We'll generate 200 words. We turn on the *do_sample* option, and this means the model randomly chooses the top 40 words in each step, based on the proability assigned to these 40 words. \n",
    "\n",
    "Finally, we need to convert the integers back to text, as follows:"
   ]
  },
  {
   "cell_type": "code",
   "execution_count": 19,
   "id": "8c746b60",
   "metadata": {},
   "outputs": [
    {
     "name": "stdout",
     "output_type": "stream",
     "text": [
      "The city of Lexington in the state of Kentucky, is also offering a $300 award to \"Owner\" PANZER-KATZ FOR BEST LENGTH OF STREET CARS, or just \"For the Best Street Car\" in any of their three categories:\n",
      "\n",
      "4WD (3.5 miles or less)\n",
      "\n",
      "6WD (3.5 miles or more)\n",
      "\n",
      "FWD (3.5 miles or more)\n",
      "\n",
      "And this is for the BEST street car in the 4WD category:\n",
      "\n",
      "The \"Neato\" (pronounced \"Nice\")\n",
      "\n",
      "What is it with those 4WD cars and their \"Neato\" names? This is probably one of the most well-know 4WD names in the history of 4WD cars. It is so well known that there are a multitude of books dedicated to the design and specifications of \"Nice\" 4WD cars, such as this one from Michael B. Smith, which is a good read.\n",
      "\n",
      "But as of right\n"
     ]
    }
   ],
   "source": [
    "out=tokenizer.decode(y[0].squeeze())   \n",
    "print(out)"
   ]
  },
  {
   "cell_type": "markdown",
   "id": "d561161b",
   "metadata": {},
   "source": [
    "The generated text sounds real. But I did a Google search and the story is not true and it's not taken from any existing source. That is, GPT2 is able to generate believable stories based on the trained model. "
   ]
  }
 ],
 "metadata": {
  "kernelspec": {
   "display_name": "Python 3 (ipykernel)",
   "language": "python",
   "name": "python3"
  },
  "language_info": {
   "codemirror_mode": {
    "name": "ipython",
    "version": 3
   },
   "file_extension": ".py",
   "mimetype": "text/x-python",
   "name": "python",
   "nbconvert_exporter": "python",
   "pygments_lexer": "ipython3",
   "version": "3.11.5"
  }
 },
 "nbformat": 4,
 "nbformat_minor": 5
}
